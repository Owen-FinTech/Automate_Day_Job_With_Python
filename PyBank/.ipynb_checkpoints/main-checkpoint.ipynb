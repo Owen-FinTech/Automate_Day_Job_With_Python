{
 "cells": [
  {
   "cell_type": "markdown",
   "id": "aa61f16d-c6fc-4368-b111-f2949abe2268",
   "metadata": {},
   "source": [
    "# Automate Your Day Job with Python\n",
    "\n",
    "## PyBank"
   ]
  },
  {
   "cell_type": "markdown",
   "id": "fcfea042-a883-42e2-b1ec-89b64e1a93e6",
   "metadata": {},
   "source": [
    "I will be analyzing the financial records of the company PyBank using a financial dataset stored in a csv file.\n",
    "\n",
    "The following script will calulate:\n",
    "\n",
    "* The total number of months included in the dataset.\n",
    "\n",
    "* The net total amount of Profit/Losses over the entire period.\n",
    "\n",
    "* The average of the changes in Profit/Losses over the entire period.\n",
    "\n",
    "* The greatest increase in profits (date and amount) over the entire period.\n",
    "\n",
    "* The greatest decrease in losses (date and amount) over the entire period."
   ]
  },
  {
   "cell_type": "code",
   "execution_count": 1,
   "id": "a8ed9e4b-81c8-4425-867d-00283273fc43",
   "metadata": {},
   "outputs": [],
   "source": [
    "# Importing the Pathlib library:\n",
    "from pathlib import Path\n",
    "# Importing the csv library:\n",
    "import csv"
   ]
  },
  {
   "cell_type": "code",
   "execution_count": 2,
   "id": "1a5f7909-4f75-4b29-b101-f99203537b6b",
   "metadata": {},
   "outputs": [],
   "source": [
    "# Setting the file path:\n",
    "csvpath = Path(\"budget_data.csv\")"
   ]
  },
  {
   "cell_type": "code",
   "execution_count": 3,
   "id": "ec019209-a3d6-4f74-bde8-ddea4d3d8385",
   "metadata": {},
   "outputs": [],
   "source": [
    "# Initializing a variable to hold the records list:\n",
    "records = []\n",
    "# Initializing the metric variables:\n",
    "months = 0\n",
    "total = 0"
   ]
  },
  {
   "cell_type": "code",
   "execution_count": 4,
   "id": "0454b9e5-fd73-499a-ab77-1e6e08d9aad8",
   "metadata": {},
   "outputs": [
    {
     "name": "stdout",
     "output_type": "stream",
     "text": [
      "['Date', 'Profit/Losses'] <---- HEADER\n",
      "['Date', 'Profit/Losses', 'Change'] <---- NEW HEADER\n",
      "\n",
      "\n",
      "[['Date', 'Profit/Losses', 'Change'], ['Jan-2010', '867884', 0], ['Feb-2010', '984655', 116771], ['Mar-2010', '322013', -662642], ['Apr-2010', '-69417', -391430], ['May-2010', '310503', 379920], ['Jun-2010', '522857', 212354], ['Jul-2010', '1033096', 510239], ['Aug-2010', '604885', -428211], ['Sep-2010', '-216386', -821271], ['Oct-2010', '477532', 693918], ['Nov-2010', '893810', 416278], ['Dec-2010', '-80353', -974163], ['Jan-2011', '779806', 860159], ['Feb-2011', '-335203', -1115009], ['Mar-2011', '697845', 1033048], ['Apr-2011', '793163', 95318], ['May-2011', '485070', -308093], ['Jun-2011', '584122', 99052], ['Jul-2011', '62729', -521393], ['Aug-2011', '668179', 605450], ['Sep-2011', '899906', 231727], ['Oct-2011', '834719', -65187], ['Nov-2011', '132003', -702716], ['Dec-2011', '309978', 177975], ['Jan-2012', '-755566', -1065544], ['Feb-2012', '1170593', 1926159], ['Mar-2012', '252788', -917805], ['Apr-2012', '1151518', 898730], ['May-2012', '817256', -334262], ['Jun-2012', '570757', -246499], ['Jul-2012', '506702', -64055], ['Aug-2012', '-1022534', -1529236], ['Sep-2012', '475062', 1497596], ['Oct-2012', '779976', 304914], ['Nov-2012', '144175', -635801], ['Dec-2012', '542494', 398319], ['Jan-2013', '359333', -183161], ['Feb-2013', '321469', -37864], ['Mar-2013', '67780', -253689], ['Apr-2013', '471435', 403655], ['May-2013', '565603', 94168], ['Jun-2013', '872480', 306877], ['Jul-2013', '789480', -83000], ['Aug-2013', '999942', 210462], ['Sep-2013', '-1196225', -2196167], ['Oct-2013', '268997', 1465222], ['Nov-2013', '-687986', -956983], ['Dec-2013', '1150461', 1838447], ['Jan-2014', '682458', -468003], ['Feb-2014', '617856', -64602], ['Mar-2014', '824098', 206242], ['Apr-2014', '581943', -242155], ['May-2014', '132864', -449079], ['Jun-2014', '448062', 315198], ['Jul-2014', '689161', 241099], ['Aug-2014', '800701', 111540], ['Sep-2014', '1166643', 365942], ['Oct-2014', '947333', -219310], ['Nov-2014', '578668', -368665], ['Dec-2014', '988505', 409837], ['Jan-2015', '1139715', 151210], ['Feb-2015', '1029471', -110244], ['Mar-2015', '687533', -341938], ['Apr-2015', '-524626', -1212159], ['May-2015', '158620', 683246], ['Jun-2015', '87795', -70825], ['Jul-2015', '423389', 335594], ['Aug-2015', '840723', 417334], ['Sep-2015', '568529', -272194], ['Oct-2015', '332067', -236462], ['Nov-2015', '989499', 657432], ['Dec-2015', '778237', -211262], ['Jan-2016', '650000', -128237], ['Feb-2016', '-1100387', -1750387], ['Mar-2016', '-174946', 925441], ['Apr-2016', '757143', 932089], ['May-2016', '445709', -311434], ['Jun-2016', '712961', 267252], ['Jul-2016', '-1163797', -1876758], ['Aug-2016', '569899', 1733696], ['Sep-2016', '768450', 198551], ['Oct-2016', '102685', -665765], ['Nov-2016', '795914', 693229], ['Dec-2016', '60988', -734926], ['Jan-2017', '138230', 77242], ['Feb-2017', '671099', 532869]]\n",
      "\n",
      "\n",
      "86 <---- MONTHS\n",
      "38382578 <---- TOTAL\n"
     ]
    }
   ],
   "source": [
    "# Opening the input path as a file object:\n",
    "with open(csvpath, 'r') as csvfile:\n",
    "    \n",
    "    # Passing in the csv file to the csv.reader() function\n",
    "    # (with ',' as the delimiter/separator) and returning the csvreader object:\n",
    "    csvreader = csv.reader(csvfile, delimiter=',')\n",
    "    # Going to the next row from the start of the file:\n",
    "    csvheader = next(csvreader)\n",
    "    # Printing the existing header:\n",
    "    print(f\"{csvheader} <---- HEADER\")\n",
    "    # Appending the title for the 'Change' column:\n",
    "    csvheader.append('Change')\n",
    "    # Printing the new header to check it:\n",
    "    print(f\"{csvheader} <---- NEW HEADER\")\n",
    "    # Appending the new header to the records list:\n",
    "    records.append(csvheader)\n",
    "    # Initializing a list to hold profit/losses to access previous values: \n",
    "    profit_and_losses_list = []\n",
    "    \n",
    "    # Reading each row of data after the header:\n",
    "    for row in csvreader:\n",
    "        # Increasing the months variable each time:  \n",
    "        months += 1\n",
    "        # Assigning the first column to date variable:\n",
    "        date = row[0]\n",
    "        # Assigning the second column to profit_and_losses variable and converting to an integer:\n",
    "        profit_and_losses = int(row[1])\n",
    "        # Increasing the total by adding profit_and_losses:\n",
    "        total += profit_and_losses\n",
    "        # Appending profit_and_losses to the profit_and_losses_list: \n",
    "        profit_and_losses_list.append(profit_and_losses)\n",
    "        # Initializing the change variables:\n",
    "        change = 0\n",
    "        \n",
    "        # Conditional to avoid first added row of list (where there is no change):\n",
    "        if len(profit_and_losses_list) > 1:\n",
    "            # Setting change variable to profit-losses minus second last addition to list: \n",
    "            change = profit_and_losses - profit_and_losses_list[-2]\n",
    "            \n",
    "        # Appending the change variable to each row:    \n",
    "        row.append(change)\n",
    "        # Appending each row to the records list:\n",
    "        records.append(row)\n",
    "\n",
    "# Printing the records list, months and total to check progress:\n",
    "print(\"\\n\")\n",
    "print(records)\n",
    "print(\"\\n\")\n",
    "print(f\"{months} <---- MONTHS\")\n",
    "print(f\"{total} <---- TOTAL\")"
   ]
  },
  {
   "cell_type": "code",
   "execution_count": 5,
   "id": "94134b7e-0e9a-43d6-833b-ebd6faf4387e",
   "metadata": {},
   "outputs": [
    {
     "name": "stdout",
     "output_type": "stream",
     "text": [
      "-2315.12 <---- AVERAGE CHANGE\n"
     ]
    }
   ],
   "source": [
    "# Initializing the metric variables:\n",
    "total_change = 0\n",
    "average_change = 0\n",
    "\n",
    "# Looping through each row of records after the header:\n",
    "for row in records[1:]:\n",
    "    # Assigning the change variable to column three:\n",
    "    change = row[2]\n",
    "    # Increasing total_change by adding each change: \n",
    "    total_change += change\n",
    "\n",
    "# Calculating average_change by dividing total_change by months\n",
    "# (minus one as first month doesn't have a change) rounded to 2 decimal places:\n",
    "average_change = round(total_change / (months - 1), 2)\n",
    "\n",
    "# Printing the average change to check progress:\n",
    "print(f\"{average_change} <---- AVERAGE CHANGE\")"
   ]
  },
  {
   "cell_type": "code",
   "execution_count": 6,
   "id": "8fb92283-bbf5-495e-bc4c-3fa02c5d4cc3",
   "metadata": {},
   "outputs": [
    {
     "name": "stdout",
     "output_type": "stream",
     "text": [
      "Feb-2012 <---- GREATEST INCREASE MONTH\n",
      "1926159 <---- GREATEST INCREASE AMOUNT\n"
     ]
    }
   ],
   "source": [
    "# Initializing a variable to hold the change list:\n",
    "change_list = []\n",
    "\n",
    "# Looping through each row of records after the header:\n",
    "for row in records[1:]:\n",
    "    # Assigning the change variable to column three:\n",
    "    change = row[2]\n",
    "    # Appending change column to the change list:\n",
    "    change_list.append(change)\n",
    "\n",
    "# Assigning the index of the maximum change to a variable:    \n",
    "max_index = change_list.index(max(change_list))\n",
    "# Assigning the row (+1 to avoid header) from records with the maximum change to a variable:\n",
    "greatest_increase_row = records[(max_index + 1)]\n",
    "# Assigning the date to a variable:\n",
    "greatest_increase_month = greatest_increase_row[0]\n",
    "# Assigning the maximum change to a variable:\n",
    "greatest_increase_amount = greatest_increase_row[2]\n",
    "\n",
    "# Printing the greatest increase month and amount to check progress:\n",
    "print(f\"{greatest_increase_month} <---- GREATEST INCREASE MONTH\")\n",
    "print(f\"{greatest_increase_amount} <---- GREATEST INCREASE AMOUNT\")"
   ]
  },
  {
   "cell_type": "code",
   "execution_count": 7,
   "id": "782a4f51-fe47-4c14-bcba-b1580e46d007",
   "metadata": {},
   "outputs": [
    {
     "name": "stdout",
     "output_type": "stream",
     "text": [
      "Sep-2013 <---- GREATEST DECREASE MONTH\n",
      "-2196167 <---- GREATEST DECREASE AMOUNT\n"
     ]
    }
   ],
   "source": [
    "# Assigning the index of the minimum change to a variable:\n",
    "min_index = change_list.index(min(change_list))\n",
    "# Assigning the row (+1 to avoid header) from records with the minimum change to a variable:\n",
    "greatest_decrease_row = records[(min_index + 1)]\n",
    "# Assigning the date to a variable:\n",
    "greatest_decrease_month = greatest_decrease_row[0]\n",
    "# Assigning the minimum change to a variable:\n",
    "greatest_decrease_amount = greatest_decrease_row[2]\n",
    "\n",
    "# Printing the greatest decrease month and amount to check progress:\n",
    "print(f\"{greatest_decrease_month} <---- GREATEST DECREASE MONTH\")\n",
    "print(f\"{greatest_decrease_amount} <---- GREATEST DECREASE AMOUNT\")"
   ]
  },
  {
   "cell_type": "markdown",
   "id": "d78f8e45-116d-46c4-ad10-2cb6c2501f85",
   "metadata": {},
   "source": [
    "Next I will print the analysis to the terminal and export a text file with the results."
   ]
  },
  {
   "cell_type": "code",
   "execution_count": 8,
   "id": "dc35aa45-0504-4618-b7d2-01744768f760",
   "metadata": {},
   "outputs": [
    {
     "name": "stdout",
     "output_type": "stream",
     "text": [
      "Financial Analysis\n",
      "----------------------------\n",
      "Total Months: 86\n",
      "Total: $38382578\n",
      "Average  Change: $-2315.12\n",
      "Greatest Increase in Profits: Feb-2012 ($1926159)\n",
      "Greatest Decrease in Profits: Sep-2013 ($-2196167)\n"
     ]
    }
   ],
   "source": [
    "# Assigining multiline string to results variable and printing the variable:\n",
    "results = (f\"\"\"Financial Analysis\n",
    "----------------------------\n",
    "Total Months: {months}\n",
    "Total: ${total}\n",
    "Average  Change: ${average_change}\n",
    "Greatest Increase in Profits: {greatest_increase_month} (${greatest_increase_amount})\n",
    "Greatest Decrease in Profits: {greatest_decrease_month} (${greatest_decrease_amount})\"\"\")\n",
    "\n",
    "print(results)"
   ]
  },
  {
   "cell_type": "code",
   "execution_count": 9,
   "id": "3dd675a0-dd61-4c7a-af66-db8260c63260",
   "metadata": {},
   "outputs": [],
   "source": [
    "# Setting the output file path:\n",
    "output_path = Path(\"results.txt\")\n",
    "# Opening the output_path as a file object in \"write\" mode ('w'):\n",
    "with open(output_path, 'w') as file:\n",
    "    # Writing the contents of 'results' to the file:\n",
    "    file.write(results)"
   ]
  },
  {
   "cell_type": "code",
   "execution_count": null,
   "id": "ce2df43c-3bfc-4e91-a2ae-72222e097371",
   "metadata": {},
   "outputs": [],
   "source": []
  }
 ],
 "metadata": {
  "kernelspec": {
   "display_name": "Python 3 (ipykernel)",
   "language": "python",
   "name": "python3"
  },
  "language_info": {
   "codemirror_mode": {
    "name": "ipython",
    "version": 3
   },
   "file_extension": ".py",
   "mimetype": "text/x-python",
   "name": "python",
   "nbconvert_exporter": "python",
   "pygments_lexer": "ipython3",
   "version": "3.7.11"
  }
 },
 "nbformat": 4,
 "nbformat_minor": 5
}
