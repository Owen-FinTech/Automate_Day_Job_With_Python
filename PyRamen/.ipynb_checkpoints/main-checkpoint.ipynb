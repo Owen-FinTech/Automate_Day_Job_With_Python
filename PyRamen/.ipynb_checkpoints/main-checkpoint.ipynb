{
 "cells": [
  {
   "cell_type": "markdown",
   "id": "9285aeba-c34d-4823-8d07-b5c1dbbc2c32",
   "metadata": {},
   "source": [
    "# Automate Your Day Job with Python\n",
    "\n",
    "## PyRamen"
   ]
  },
  {
   "cell_type": "markdown",
   "id": "feac34ae-009d-43cf-9bb9-6b3987ffdf31",
   "metadata": {},
   "source": [
    "With this script I will attempt to analyze how well the business did on a per-product basis (as there are several choices of ramen) in order to better understand which products are doing well, which are doing poorly, and, ultimately, which products may need to be removed or changed."
   ]
  },
  {
   "cell_type": "code",
   "execution_count": 1,
   "id": "3f775548-66dc-44ab-bdb2-b0d2e99ecfb2",
   "metadata": {},
   "outputs": [],
   "source": [
    "# Importing libraries:\n",
    "import csv\n",
    "from pathlib import Path"
   ]
  },
  {
   "cell_type": "code",
   "execution_count": 2,
   "id": "6467b28f-4541-45f5-a57d-36d59c3e0019",
   "metadata": {},
   "outputs": [],
   "source": [
    "# Setting file paths for menu_data.csv and sales_data.csv\n",
    "menu_filepath = Path('menu_data.csv')\n",
    "sales_filepath = Path('sales_data.csv')"
   ]
  },
  {
   "cell_type": "code",
   "execution_count": 3,
   "id": "4b5defde-18b5-4631-82ff-662783dac9b1",
   "metadata": {},
   "outputs": [],
   "source": [
    "# Initializing lists to hold menu and sales data:\n",
    "menu = []\n",
    "sales = []"
   ]
  },
  {
   "cell_type": "markdown",
   "id": "c1fdeb26-e73f-4f23-89dd-4c60cdf957f3",
   "metadata": {},
   "source": [
    "### Reading the Data"
   ]
  },
  {
   "cell_type": "code",
   "execution_count": 4,
   "id": "8cd997eb-597d-4251-bde8-e740403266dc",
   "metadata": {},
   "outputs": [
    {
     "name": "stdout",
     "output_type": "stream",
     "text": [
      "['item', 'category', 'description', 'price', 'cost'] <---- MENU HEADER\n",
      "\n",
      "\n",
      "[['edamame', 'appetizers', 'boiled soybeans, maldon sea salt', '4', '1'], ['house salad', 'appetizers', 'mixed greens, cherry tomatoes, cucumber, house ginger dressing', '4', '2'], ['cucumber sunomono salad', 'appetizers', 'cucumber, ponzu dressing, pickled ginger sproud, sesame seeds', '5', '2']]\n"
     ]
    }
   ],
   "source": [
    "# Opening the input path as a file object:\n",
    "with open(menu_filepath, 'r') as csvfile:\n",
    "    \n",
    "    # Passing in the csv file to the csv.reader() function\n",
    "    # (with ',' as the delimiter/separator) and returning the csvreader object:\n",
    "    csvreader = csv.reader(csvfile, delimiter=',')\n",
    "    # Going to the next row from the start of the file:\n",
    "    csvheader = next(csvreader)\n",
    "    # Printing the existing header to check it:\n",
    "    print(f\"{csvheader} <---- MENU HEADER\")\n",
    "    \n",
    "    # Reading each row of data after the header:\n",
    "    for row in csvreader:\n",
    "        # Appending each row to the menu list:\n",
    "        menu.append(row)\n",
    "        \n",
    "# Printing first three rows of menu list to check progress:\n",
    "print(\"\\n\")\n",
    "print(menu[:3])"
   ]
  },
  {
   "cell_type": "code",
   "execution_count": 5,
   "id": "5b95ba64-4a9e-4779-a29e-0eeddcf1ba9d",
   "metadata": {},
   "outputs": [
    {
     "name": "stdout",
     "output_type": "stream",
     "text": [
      "['Line_Item_ID', 'Date', 'Credit_Card_Number', 'Quantity', 'Menu_Item'] <---- SALES HEADER\n",
      "\n",
      "\n",
      "[['1', '01-01-2017', '7437926611570799', '1', 'spicy miso ramen'], ['2', '01-01-2017', '7437926611570799', '1', 'spicy miso ramen'], ['3', '01-01-2017', '8421920068932819', '3', 'tori paitan ramen']]\n"
     ]
    }
   ],
   "source": [
    "# Opening the input path as a file object:\n",
    "with open(sales_filepath, 'r') as csvfile:\n",
    "    \n",
    "    # Passing in the csv file to the csv.reader() function\n",
    "    # (with ',' as the delimiter/separator) and returning the csvreader object:\n",
    "    csvreader = csv.reader(csvfile, delimiter=',')\n",
    "    # Going to the next row from the start of the file:\n",
    "    csvheader = next(csvreader)\n",
    "    # Printing the existing header to check it:\n",
    "    print(f\"{csvheader} <---- SALES HEADER\")\n",
    "    \n",
    "    # Reading each row of data after the header:\n",
    "    for row in csvreader:\n",
    "        # Appending each row to the sales list:\n",
    "        sales.append(row)\n",
    "        \n",
    "# Printing first three rows of sales list to check progress:\n",
    "print(\"\\n\")\n",
    "print(sales[:3])"
   ]
  },
  {
   "cell_type": "markdown",
   "id": "83833fad-f158-4498-ac7d-70644765b3af",
   "metadata": {},
   "source": [
    "### Manipulating the Data"
   ]
  },
  {
   "cell_type": "code",
   "execution_count": 6,
   "id": "dd3acd42-926d-4c27-adaf-ef6e2bb85811",
   "metadata": {},
   "outputs": [],
   "source": [
    "# Initializing dictionary to hold key-value pairs of items and metrics:\n",
    "report = {}\n",
    "# Initializing a row count variable:\n",
    "row_count = 0\n",
    "\n",
    "# Looping over every row in the sales list:\n",
    "for row in sales:\n",
    "    # Incrementally increasing the row count variable:\n",
    "    row_count += 1\n",
    "    # Assigning the quantity variable to column four and converting it to an integer:\n",
    "    quantity = int(row[3])\n",
    "    # Assigning the sales item variable to column five:\n",
    "    sales_item = row[4]\n",
    "    \n",
    "    # Conditional statement to see if sales item not in report:\n",
    "    if sales_item not in report:\n",
    "        # Adding it as a new entry with initialized metrics:\n",
    "        report[sales_item] = {\n",
    "        \"01-count\": 0,\n",
    "        \"02-revenue\": 0,\n",
    "        \"03-cogs\": 0,\n",
    "        \"04-profit\": 0}\n",
    "    \n",
    "    # Nested looping over the menu records:\n",
    "    for row in menu:\n",
    "        # Assigning the menu item variable to column one:\n",
    "        menu_item = row[0]\n",
    "        # Assigning the price variable to column four and converting to a float:\n",
    "        price = float(row[3])\n",
    "        # Assigning the cost variable to column five and converting to a float:\n",
    "        cost = float(row[4])\n",
    "        # Setting the equation for the profit variable:\n",
    "        profit = price - cost\n",
    "        \n",
    "        # Conditional to see if menu item is the same as the sales item:\n",
    "        if menu_item == sales_item:\n",
    "            # Adding quantity to the \"01-count\" key for this sales item row in report dictionary:\n",
    "            report[sales_item][\"01-count\"] += quantity\n",
    "            # Adding price times quantity to the \"02-revenue\" key for this sales item row in report dictionary:\n",
    "            report[sales_item][\"02-revenue\"] += price * quantity\n",
    "            # Adding cost times quantity to the \"03-cogs\" key for this sales item row in report dictionary:\n",
    "            report[sales_item][\"03-cogs\"] += cost * quantity\n",
    "            # Adding profit times quantity to the \"04-profit\" key for this sales item row in report dictionary:\n",
    "            report[sales_item][\"04-profit\"] += profit * quantity\n",
    "            \n",
    "        # NOTE: I have left the following print statement hashed-out as it printed thousands of messages:      \n",
    "        # else:\n",
    "            # print(f\"{sales_item} does not equal {menu_item}! NO MATCH!\")"
   ]
  },
  {
   "cell_type": "code",
   "execution_count": 7,
   "id": "b068d876-3f3a-4527-8548-495b7dac471c",
   "metadata": {},
   "outputs": [
    {
     "name": "stdout",
     "output_type": "stream",
     "text": [
      "74124 <---- ROW COUNT\n"
     ]
    }
   ],
   "source": [
    "# Printing the total number of records in sales data:\n",
    "print(f\"{row_count} <---- ROW COUNT\")"
   ]
  },
  {
   "cell_type": "code",
   "execution_count": 8,
   "id": "d043d3ea-81f1-49ef-9c6e-435278b5770b",
   "metadata": {},
   "outputs": [
    {
     "name": "stdout",
     "output_type": "stream",
     "text": [
      "{'spicy miso ramen': {'01-count': 9238, '02-revenue': 110856.0, '03-cogs': 46190.0, '04-profit': 64666.0}, 'tori paitan ramen': {'01-count': 9156, '02-revenue': 119028.0, '03-cogs': 54936.0, '04-profit': 64092.0}, 'truffle butter ramen': {'01-count': 8982, '02-revenue': 125748.0, '03-cogs': 62874.0, '04-profit': 62874.0}, 'tonkotsu ramen': {'01-count': 9288, '02-revenue': 120744.0, '03-cogs': 55728.0, '04-profit': 65016.0}, 'vegetarian spicy miso': {'01-count': 9216, '02-revenue': 110592.0, '03-cogs': 46080.0, '04-profit': 64512.0}, 'shio ramen': {'01-count': 9180, '02-revenue': 100980.0, '03-cogs': 45900.0, '04-profit': 55080.0}, 'miso crab ramen': {'01-count': 8890, '02-revenue': 106680.0, '03-cogs': 53340.0, '04-profit': 53340.0}, 'nagomi shoyu': {'01-count': 9132, '02-revenue': 100452.0, '03-cogs': 45660.0, '04-profit': 54792.0}, 'soft-shell miso crab ramen': {'01-count': 9130, '02-revenue': 127820.0, '03-cogs': 63910.0, '04-profit': 63910.0}, 'burnt garlic tonkotsu ramen': {'01-count': 9070, '02-revenue': 126980.0, '03-cogs': 54420.0, '04-profit': 72560.0}, 'vegetarian curry + king trumpet mushroom ramen': {'01-count': 8824, '02-revenue': 114712.0, '03-cogs': 61768.0, '04-profit': 52944.0}}\n"
     ]
    }
   ],
   "source": [
    "# Printing the report dictionary to check progress:\n",
    "print(report)"
   ]
  },
  {
   "cell_type": "markdown",
   "id": "b6c5b613-825e-4cfc-b851-4045e81817bf",
   "metadata": {},
   "source": [
    "### Outputting the Data"
   ]
  },
  {
   "cell_type": "code",
   "execution_count": 9,
   "id": "b2d1361a-b68e-4345-9e89-97ad04f3be75",
   "metadata": {},
   "outputs": [],
   "source": [
    "# Setting the output file path:\n",
    "output_path = Path(\"report.txt\")\n",
    "# Opening the output_path as a file object in \"write\" mode ('w'):\n",
    "with open(output_path, 'w') as file:\n",
    "    # Writing the report dictionary to the file as a string:\n",
    "    file.write(str(report))"
   ]
  },
  {
   "cell_type": "code",
   "execution_count": null,
   "id": "915dd1e8-05e8-4670-bb8a-0090a8d0095a",
   "metadata": {},
   "outputs": [],
   "source": []
  }
 ],
 "metadata": {
  "kernelspec": {
   "display_name": "Python 3 (ipykernel)",
   "language": "python",
   "name": "python3"
  },
  "language_info": {
   "codemirror_mode": {
    "name": "ipython",
    "version": 3
   },
   "file_extension": ".py",
   "mimetype": "text/x-python",
   "name": "python",
   "nbconvert_exporter": "python",
   "pygments_lexer": "ipython3",
   "version": "3.7.11"
  }
 },
 "nbformat": 4,
 "nbformat_minor": 5
}
